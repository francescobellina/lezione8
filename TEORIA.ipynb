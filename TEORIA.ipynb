{
  "cells": [
    {
      "cell_type": "markdown",
      "metadata": {
        "id": "OCYksj-bKZiY"
      },
      "source": [
        "#TOY EXPERIMENT"
      ]
    },
    {
      "cell_type": "code",
      "execution_count": null,
      "metadata": {
        "id": "RjfJX7xRKZia"
      },
      "outputs": [],
      "source": [
        "## primo esercizio"
      ]
    },
    {
      "cell_type": "code",
      "source": [],
      "metadata": {
        "id": "O2Rql5C3Kf_M"
      },
      "execution_count": null,
      "outputs": []
    },
    {
      "cell_type": "markdown",
      "source": [
        "#PRECISIONE SULLA MEDIA DI UN CAMPIONE DI MISURE"
      ],
      "metadata": {
        "id": "icIxiTBTKgX-"
      }
    },
    {
      "cell_type": "code",
      "source": [
        "from myrand import generate_uniform\n",
        "# ....\n",
        "means = []\n",
        "# loop over toys\n",
        "for i in range (N_toy):  #numero di toy, cioè numero di toy experiment\n",
        "    randlist = generate_uniform (N_evt)\n",
        "    toy_stats = stats (randlist)\n",
        "    means.append (toy_stats.mean ()) #raccolgo tutte le medie dei campioni in un array\n",
        "\n",
        "#la distribuzione delle medie con una varianza sigma^2/N (quindi all'aumentare del numero degli exp la sigma sulle media diminuisce)"
      ],
      "metadata": {
        "id": "9tlydCsxKpLS"
      },
      "execution_count": null,
      "outputs": []
    },
    {
      "cell_type": "markdown",
      "source": [
        "#visualizzazione di questa distribuzione in un istogramma\n"
      ],
      "metadata": {
        "id": "ayAxRX_lLrRR"
      }
    },
    {
      "cell_type": "code",
      "source": [
        "from stats import stats\n",
        "# ...\n",
        "means_stats = stats (means)\n",
        "xMin = means_stats.mean () - 5. * means_stats.sigma ()\n",
        "xMax = means_stats.mean () + 5. * means_stats.sigma ()\n",
        "nBins = floor (len (means) / 10.) + 1     # number of bins of the histogram\n",
        "bin_edges = np.linspace (xMin, xMax, nBins + 1)  # edges o the histogram bins\n",
        "fig, ax = plt.subplots ()\n",
        "ax.set_title ('Histogram of the mean over ' + str (N_toy) + ' toys', size=14)\n",
        "ax.set_xlabel ('mean value')\n",
        "ax.set_ylabel ('toys in bin')\n",
        "ax.hist (means,\n",
        "         bins = bin_edges,\n",
        "         color = 'orange',\n",
        "        )"
      ],
      "metadata": {
        "id": "hAd-a65OLs2M"
      },
      "execution_count": null,
      "outputs": []
    },
    {
      "cell_type": "code",
      "source": [],
      "metadata": {
        "id": "LryCKQOGL96_"
      },
      "execution_count": null,
      "outputs": []
    },
    {
      "cell_type": "markdown",
      "source": [
        "#compariamolo conla deviazione standard della media"
      ],
      "metadata": {
        "id": "mSrLPRPmL-Lj"
      }
    },
    {
      "cell_type": "code",
      "source": [
        "print ('sigma of the means disitribution:             ', means_stats.sigma ())\n",
        "print ('mean of the sigma of the means disitribution: ', sigma_means_stats.mean ())\n",
        "\n",
        "# plot the distribution of the sigma on the mean\n",
        "# calculated for each toy\n",
        "xMin = sigma_means_stats.mean () - 5. * sigma_means_stats.sigma ()\n",
        "xMax = sigma_means_stats.mean () + 5. * sigma_means_stats.sigma ()\n",
        "nBins = floor (len (sigma_means) / 10.) + 1     # number of bins of the histogram\n",
        "bin_edges = np.linspace (xMin, xMax, nBins + 1)  # edges o the histogram bins\n",
        "fig, ax = plt.subplots ()\n",
        "ax.set_title ('Histogram of the sigma on the mean over ' + str (N_toy) + ' toys', size=14)\n",
        "ax.set_xlabel ('mean value')\n",
        "ax.set_ylabel ('toys in bin')\n",
        "ax.hist (sigma_means,\n",
        "         bins = bin_edges,\n",
        "         color = 'orange',\n",
        "        )"
      ],
      "metadata": {
        "id": "LborEsvYMQ1M"
      },
      "execution_count": null,
      "outputs": []
    },
    {
      "cell_type": "code",
      "source": [],
      "metadata": {
        "id": "Pt0rbyVTMT9z"
      },
      "execution_count": null,
      "outputs": []
    },
    {
      "cell_type": "code",
      "source": [],
      "metadata": {
        "id": "mSD5IUSnMVDt"
      },
      "execution_count": null,
      "outputs": []
    },
    {
      "cell_type": "markdown",
      "source": [
        "#INTEGRAZIONE CON I PSEUDORANDOM:\n",
        "#MONTECARLO\n",
        "#IMPLEMENTAZIONE DELL'ALGORITMO HIT OR MISS"
      ],
      "metadata": {
        "id": "xvDoZqJeMZXe"
      }
    },
    {
      "cell_type": "code",
      "source": [
        "def integral_HOM (func, xMin, xMax, yMax, N_evt) : #funzione\n",
        "\n",
        "    x_coord = generate_range (xMin, xMax, N_evt)\n",
        "    y_coord = generate_range (0., yMax, N_evt)\n",
        "\n",
        "    points_under = 0\n",
        "    for x, y in zip (x_coord, y_coord): #mettiamo in parralelo x_coord e y_coord\n",
        "        if (func (x) > y) : points_under = points_under + 1  #condizione: se l'y è minore alla fuzione calcolata in x allora aggiungo\n",
        "        #alla variabile contatore una unità, alla fine avrò un certo numero che inserirò nelle formule (è sostanzialmente nhit)\n",
        "\n",
        "    A_rett = (xMax - xMin) * yMax #area del rettangolo di definizione, contenente la mia funzione\n",
        "    frac = float (points_under) / float (N_evt) #nhit/N\n",
        "    integral = A_rett * frac\n",
        "    integral_unc = A_rett**2 * frac * (1 - frac) / N_evt #formula che mi da l'incertezza sul valore dell'integrale\n",
        "\n",
        "    return integral, integral_unc"
      ],
      "metadata": {
        "id": "0MEQY5y_MeRp"
      },
      "execution_count": null,
      "outputs": []
    },
    {
      "cell_type": "markdown",
      "source": [
        "##CRUDE MONTECARLO METHOD\n"
      ],
      "metadata": {
        "id": "IO7CIMMpPZJ7"
      }
    },
    {
      "cell_type": "code",
      "source": [
        "#L’agoritmo crude Monte Carlo sfrutta le proprietà del valore di aspettazione di una funzione"
      ],
      "metadata": {
        "id": "SeWRpvePPcQL"
      },
      "execution_count": null,
      "outputs": []
    }
  ],
  "metadata": {
    "kernelspec": {
      "display_name": "Python 3 (ipykernel)",
      "language": "python",
      "name": "python3"
    },
    "language_info": {
      "codemirror_mode": {
        "name": "ipython",
        "version": 3
      },
      "file_extension": ".py",
      "mimetype": "text/x-python",
      "name": "python",
      "nbconvert_exporter": "python",
      "pygments_lexer": "ipython3",
      "version": "3.8.10"
    },
    "colab": {
      "provenance": []
    }
  },
  "nbformat": 4,
  "nbformat_minor": 0
}